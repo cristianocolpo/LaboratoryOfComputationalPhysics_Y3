{
 "cells": [
  {
   "cell_type": "markdown",
   "metadata": {},
   "source": [
    "### Numpy basics"
   ]
  },
  {
   "cell_type": "markdown",
   "metadata": {},
   "source": [
    "1\\. Find the row, column and overall means for the following matrix:\n",
    "\n",
    "```python\n",
    "m = np.arange(12).reshape((3,4))\n",
    "```"
   ]
  },
  {
   "cell_type": "code",
   "execution_count": 37,
   "metadata": {},
   "outputs": [],
   "source": [
    "import numpy as np"
   ]
  },
  {
   "cell_type": "code",
   "execution_count": 38,
   "metadata": {},
   "outputs": [
    {
     "data": {
      "text/plain": [
       "(array([[ 0,  1,  2,  3],\n",
       "        [ 4,  5,  6,  7],\n",
       "        [ 8,  9, 10, 11]]),\n",
       " array([1.5, 5.5, 9.5]),\n",
       " array([4., 5., 6., 7.]),\n",
       " 5.5)"
      ]
     },
     "execution_count": 38,
     "metadata": {},
     "output_type": "execute_result"
    }
   ],
   "source": [
    "m = np.arange(12).reshape((3,4))\n",
    "m,m.mean(axis=1), m.mean(axis=0), m.mean()"
   ]
  },
  {
   "cell_type": "markdown",
   "metadata": {},
   "source": [
    "2\\. Find the outer product of the following two vecotrs\n",
    "\n",
    "```python\n",
    "u = np.array([1,3,5,7])\n",
    "v = np.array([2,4,6,8])\n",
    "```\n",
    "\n",
    "Do this in the following ways:\n",
    "\n",
    "   * Using the function outer in numpy\n",
    "   * Using a nested for loop or list comprehension\n",
    "   * Using numpy broadcasting operatoins\n"
   ]
  },
  {
   "cell_type": "code",
   "execution_count": 39,
   "metadata": {},
   "outputs": [
    {
     "data": {
      "text/plain": [
       "(array([[ 2,  4,  6,  8],\n",
       "        [ 6, 12, 18, 24],\n",
       "        [10, 20, 30, 40],\n",
       "        [14, 28, 42, 56]]),\n",
       " array([[ 2,  4,  6,  8],\n",
       "        [ 6, 12, 18, 24],\n",
       "        [10, 20, 30, 40],\n",
       "        [14, 28, 42, 56]]),\n",
       " [[2, 6, 10, 14], [4, 12, 20, 28], [6, 18, 30, 42], [8, 24, 40, 56]])"
      ]
     },
     "execution_count": 39,
     "metadata": {},
     "output_type": "execute_result"
    }
   ],
   "source": [
    "u = np.array([1,3,5,7])\n",
    "v = np.array([2,4,6,8])\n",
    "rl = np.outer(u, v)\n",
    "u.reshape(4,1)*v, rl, [[i*j for i in u]for j in v]"
   ]
  },
  {
   "cell_type": "markdown",
   "metadata": {},
   "source": [
    "3\\. Create a 10 by 6 matrix of random uniform numbers. Set all rows with any entry less than 0.1 to be zero\n",
    "\n",
    "Hint: Use the following numpy functions - np.random.random, np.any as well as Boolean indexing and the axis argument."
   ]
  },
  {
   "cell_type": "code",
   "execution_count": 40,
   "metadata": {},
   "outputs": [
    {
     "name": "stdout",
     "output_type": "stream",
     "text": [
      "uniform: \n",
      " [[0.69646919 0.28613933 0.22685145 0.55131477 0.71946897 0.42310646]\n",
      " [0.9807642  0.68482974 0.4809319  0.39211752 0.34317802 0.72904971]\n",
      " [0.43857224 0.0596779  0.39804426 0.73799541 0.18249173 0.17545176]\n",
      " [0.53155137 0.53182759 0.63440096 0.84943179 0.72445532 0.61102351]\n",
      " [0.72244338 0.32295891 0.36178866 0.22826323 0.29371405 0.63097612]\n",
      " [0.09210494 0.43370117 0.43086276 0.4936851  0.42583029 0.31226122]\n",
      " [0.42635131 0.89338916 0.94416002 0.50183668 0.62395295 0.1156184 ]\n",
      " [0.31728548 0.41482621 0.86630916 0.25045537 0.48303426 0.98555979]\n",
      " [0.51948512 0.61289453 0.12062867 0.8263408  0.60306013 0.54506801]\n",
      " [0.34276383 0.30412079 0.41702221 0.68130077 0.87545684 0.51042234]] \n",
      "\n",
      "uniform: \n",
      " [[0.69646919 0.28613933 0.22685145 0.55131477 0.71946897 0.42310646]\n",
      " [0.9807642  0.68482974 0.4809319  0.39211752 0.34317802 0.72904971]\n",
      " [0.         0.         0.         0.         0.         0.        ]\n",
      " [0.53155137 0.53182759 0.63440096 0.84943179 0.72445532 0.61102351]\n",
      " [0.72244338 0.32295891 0.36178866 0.22826323 0.29371405 0.63097612]\n",
      " [0.         0.         0.         0.         0.         0.        ]\n",
      " [0.42635131 0.89338916 0.94416002 0.50183668 0.62395295 0.1156184 ]\n",
      " [0.31728548 0.41482621 0.86630916 0.25045537 0.48303426 0.98555979]\n",
      " [0.51948512 0.61289453 0.12062867 0.8263408  0.60306013 0.54506801]\n",
      " [0.34276383 0.30412079 0.41702221 0.68130077 0.87545684 0.51042234]] \n",
      "\n"
     ]
    }
   ],
   "source": [
    "import numpy.random as npr\n",
    "npr.seed(123) # fix seed for reproducible result\n",
    "\n",
    "matrix = npr.rand(10,6)\n",
    "print (\"uniform:\",'\\n', matrix,'\\n')\n",
    "mask = (matrix < 0.1)\n",
    "delRow = np.any(mask,axis=1)\n",
    "matrix[delRow,:] = 0\n",
    "print (\"uniform:\",'\\n', matrix,'\\n')"
   ]
  },
  {
   "cell_type": "markdown",
   "metadata": {},
   "source": [
    "4\\. Use np.linspace to create an array of 100 numbers between 0 and 2π (includsive).\n",
    "\n",
    "  * Extract every 10th element using slice notation\n",
    "  * Reverse the array using slice notation\n",
    "  * Extract elements where the absolute difference between the sine and cosine functions evaluated at that element is less than 0.1\n",
    "  * Make a plot showing the sin and cos functions and indicate where they are close"
   ]
  },
  {
   "cell_type": "code",
   "execution_count": 41,
   "metadata": {},
   "outputs": [
    {
     "name": "stdout",
     "output_type": "stream",
     "text": [
      "[0.76159822 0.82506474 3.87145761 3.93492413]\n"
     ]
    },
    {
     "data": {
      "image/png": "[encoded data removed]",
      "text/plain": [
       "<Figure size 432x288 with 1 Axes>"
      ]
     },
     "metadata": {
      "needs_background": "light"
     },
     "output_type": "display_data"
    }
   ],
   "source": [
    "import matplotlib.pyplot as plt \n",
    "%matplotlib inline \n",
    "\n",
    "x = np.linspace(0, 2*np.pi, 100)\n",
    "every10elem = x[0:100:10] \n",
    "reversedx = x[::-1]\n",
    "mask = (np.abs((np.sin(x)-np.cos(x)))<0.1)\n",
    "closePoints = x[mask]\n",
    "\n",
    "\n",
    "\n",
    "\n",
    "print(closePoints)\n",
    "\n",
    "y1 = np.sin(x)\n",
    "y2 = np.cos(x)\n",
    "for xc in closePoints:\n",
    "    plt.axvline(x=xc, color='k', linestyle='--')\n",
    "    \n",
    "plt.plot(x, y1)\n",
    "plt.plot(x, y2)\n",
    "plt.show()"
   ]
  },
  {
   "cell_type": "markdown",
   "metadata": {},
   "source": [
    "5\\. Create a matrix that shows the 10 by 10 multiplication table.\n",
    "\n",
    " * Find the trace of the matrix\n",
    " * Extract the anto-diagonal (this should be ```array([10, 18, 24, 28, 30, 30, 28, 24, 18, 10])```)\n",
    " * Extract the diagnoal offset by 1 upwards (this should be ```array([ 2,  6, 12, 20, 30, 42, 56, 72, 90])```)"
   ]
  },
  {
   "cell_type": "code",
   "execution_count": 42,
   "metadata": {},
   "outputs": [
    {
     "name": "stdout",
     "output_type": "stream",
     "text": [
      "trace 385.0\n",
      "Anti diagonal [10. 18. 24. 28. 30. 30. 28. 24. 18. 10.]\n",
      "Diagonal offeset by 1  [ 2.  6. 12. 20. 30. 42. 56. 72. 90.]\n"
     ]
    }
   ],
   "source": [
    "matrixmul = np.fromfunction(lambda i, j: (i+1)*(j+1), (10,10))\n",
    "print(\"trace\", np.trace(matrixmul))\n",
    "print(\"Anti diagonal\", np.fliplr(matrixmul).diagonal())\n",
    "print(\"Diagonal offeset by 1 \", np.diagonal(matrixmul,1))"
   ]
  },
  {
   "cell_type": "markdown",
   "metadata": {},
   "source": [
    "6\\. Use broadcasting to create a grid of distances\n",
    "\n",
    "Route 66 crosses the following cities in the US: Chicago, Springfield, Saint-Louis, Tulsa, Oklahoma City, Amarillo, Santa Fe, Albuquerque, Flagstaff, Los Angeles\n",
    "The corresponding positions in miles are: 0, 198, 303, 736, 871, 1175, 1475, 1544, 1913, 2448\n",
    "\n",
    "  * Construct a 2D grid of distances among each city along Route 66\n",
    "  * Convert that in km (those savages...)"
   ]
  },
  {
   "cell_type": "code",
   "execution_count": 43,
   "metadata": {},
   "outputs": [
    {
     "name": "stdout",
     "output_type": "stream",
     "text": [
      "[[   0.     122.958  188.163  457.056  540.891  729.675  915.975  958.824\n",
      "  1187.973 1520.208]\n",
      " [ 122.958    0.      65.205  334.098  417.933  606.717  793.017  835.866\n",
      "  1065.015 1397.25 ]\n",
      " [ 188.163   65.205    0.     268.893  352.728  541.512  727.812  770.661\n",
      "   999.81  1332.045]\n",
      " [ 457.056  334.098  268.893    0.      83.835  272.619  458.919  501.768\n",
      "   730.917 1063.152]\n",
      " [ 540.891  417.933  352.728   83.835    0.     188.784  375.084  417.933\n",
      "   647.082  979.317]\n",
      " [ 729.675  606.717  541.512  272.619  188.784    0.     186.3    229.149\n",
      "   458.298  790.533]\n",
      " [ 915.975  793.017  727.812  458.919  375.084  186.3      0.      42.849\n",
      "   271.998  604.233]\n",
      " [ 958.824  835.866  770.661  501.768  417.933  229.149   42.849    0.\n",
      "   229.149  561.384]\n",
      " [1187.973 1065.015  999.81   730.917  647.082  458.298  271.998  229.149\n",
      "     0.     332.235]\n",
      " [1520.208 1397.25  1332.045 1063.152  979.317  790.533  604.233  561.384\n",
      "   332.235    0.   ]]\n"
     ]
    }
   ],
   "source": [
    "distances = np.array([0, 198, 303, 736, 871, 1175, 1475, 1544, 1913, 2448])\n",
    "\n",
    "twodgrid = np.abs(distances.reshape(distances.shape[0],1)-distances)\n",
    "print(twodgrid*0.621)"
   ]
  },
  {
   "cell_type": "markdown",
   "metadata": {},
   "source": [
    "7\\. Prime numbers sieve: compute the prime numbers in the 0-N (N=99 to start with) range with a sieve (mask).\n",
    "  * Constract a shape (100,) boolean array, the mask\n",
    "  * Identify the multiples of each number starting from 2 and set accordingly the corresponding mask element\n",
    "  * Apply the mask to obtain an array of ordered prime numbers\n",
    "  * Check the performances (timeit); how does it scale with N?\n",
    "  * Implement the optimization suggested in the [sieve of Eratosthenes](https://en.wikipedia.org/wiki/Sieve_of_Eratosthenes)"
   ]
  },
  {
   "cell_type": "code",
   "execution_count": 44,
   "metadata": {},
   "outputs": [
    {
     "name": "stdout",
     "output_type": "stream",
     "text": [
      "9.27 µs ± 24.8 ns per loop (mean ± std. dev. of 7 runs, 100000 loops each)\n",
      "176 µs ± 1.71 µs per loop (mean ± std. dev. of 7 runs, 10000 loops each)\n",
      "676 µs ± 18.7 µs per loop (mean ± std. dev. of 7 runs, 1000 loops each)\n",
      "the solution nr1 doesn't scale well with N, it looks \n",
      "25.5 µs ± 104 ns per loop (mean ± std. dev. of 7 runs, 10000 loops each)\n"
     ]
    }
   ],
   "source": [
    "N = 99\n",
    "numbers = np.arange(N+1)\n",
    "def prime(N):\n",
    "    mask = np.ones((N+1,), dtype=bool)\n",
    "    mask[0],mask[1] = False, False\n",
    "    for i in range(2,N+1):\n",
    "        for j in range(2,N+1):\n",
    "            multiplo = i*j\n",
    "            if multiplo < N+1:\n",
    "                mask[multiplo] = False\n",
    "    #print(\"prime numbers\", numbers[mask])\n",
    "\n",
    "N = [10 , 50, 99]\n",
    "%timeit prime(N[0])\n",
    "%timeit prime(N[1])\n",
    "%timeit prime(N[2])\n",
    "print(\"the solution nr1 doesn't scale well with N, it looks \")\n",
    "def sieve(n):\n",
    "    flags = np.ones(n, dtype=bool)\n",
    "    flags[0] = flags[1] = False\n",
    "    for i in range(2, n):\n",
    "        if flags[i]:\n",
    "            flags[i*i::i] = False\n",
    "    return np.flatnonzero(flags)\n",
    "%timeit sieve(99)"
   ]
  },
  {
   "cell_type": "markdown",
   "metadata": {},
   "source": [
    "8\\. Diffusion using random walk\n",
    "\n",
    "Consider a simple random walk process: at each step in time, a walker jumps right or left (+1 or -1) with equal probability. The goal is to find the typical distance from the origin of a random walker after a given amount of time. \n",
    "To do that, let's simulate many walkers and create a 2D array with each walker as a raw and the actual time evolution as columns\n",
    "\n",
    "  * Take 1000 walkers and let them walk for 200 steps\n",
    "  * Use randint to create a 2D array of size walkers x steps with values -1 or 1\n",
    "  * Build the actual walking distances for each walker (i.e. another 2D array \"summing on each raw\")\n",
    "  * Take the square of that 2D array (elementwise)\n",
    "  * Compute the mean of the squared distances at each step (i.e. the mean along the columns)\n",
    "  * Plot the average distances (sqrt(distance\\*\\*2)) as a function of time (step)\n",
    "  \n",
    "Did you get what you expected?"
   ]
  },
  {
   "cell_type": "code",
   "execution_count": 45,
   "metadata": {},
   "outputs": [
    {
     "data": {
      "image/png": "[encoded data removed]",
      "text/plain": [
       "<Figure size 432x288 with 1 Axes>"
      ]
     },
     "metadata": {
      "needs_background": "light"
     },
     "output_type": "display_data"
    }
   ],
   "source": [
    "matrix = npr.randint(0,2,size=(1000,200))*2-1\n",
    "distances = np.cumsum(matrix, axis=1)\n",
    "\n",
    "squareDistances = np.square(distances)\n",
    "\n",
    "meanEachStep = np.mean(squareDistances, axis=0)\n",
    "\n",
    "distances.shape, distances1.shape\n",
    "plt.plot(np.arange(200), np.sqrt(meanEachStep))\n",
    "plt.xlabel('steps')\n",
    "plt.ylabel('mean distance')\n",
    "plt.show()\n",
    "\n",
    "#I expected a linear dependence, but unfortunately I didn't find the points of the problem very clear."
   ]
  },
  {
   "cell_type": "markdown",
   "metadata": {},
   "source": [
    "9\\. Analyze a data file \n",
    "  * Download the population of hares, lynxes and carrots at the beginning of the last century.\n",
    "    ```python\n",
    "    ! wget https://www.dropbox.com/s/3vigxoqayo389uc/populations.txt\n",
    "    ```\n",
    "\n",
    "  * Check the content by looking within the file\n",
    "  * Load the data (use an appropriate numpy method) into a 2D array\n",
    "  * Create arrays out of the columns, the arrays being (in order): *year*, *hares*, *lynxes*, *carrots* \n",
    "  * Plot the 3 populations over the years\n",
    "  * Compute the main statistical properties of the dataset (mean, std, correlations, etc.)\n",
    "  * Which species has the highest population each year?\n",
    "\n",
    "Do you feel there is some evident correlation here? [Studies](https://www.enr.gov.nt.ca/en/services/lynx/lynx-snowshoe-hare-cycle) tend to believe so."
   ]
  },
  {
   "cell_type": "code",
   "execution_count": 46,
   "metadata": {},
   "outputs": [
    {
     "name": "stdout",
     "output_type": "stream",
     "text": [
      "--2020-10-31 15:33:08--  https://www.dropbox.com/s/3vigxoqayo389uc/populations.txt\n",
      "Risoluzione di www.dropbox.com (www.dropbox.com)... 162.125.69.1, 2620:100:6025:1::a27d:4501\n",
      "Connessione a www.dropbox.com (www.dropbox.com)|162.125.69.1|:443... connesso.\n",
      "Richiesta HTTP inviata, in attesa di risposta... 301 Moved Permanently\n",
      "Posizione: /s/raw/3vigxoqayo389uc/populations.txt [segue]\n",
      "--2020-10-31 15:33:09--  https://www.dropbox.com/s/raw/3vigxoqayo389uc/populations.txt\n",
      "Riutilizzo della connessione esistente a www.dropbox.com:443.\n",
      "Richiesta HTTP inviata, in attesa di risposta... 302 Found\n",
      "Posizione: https://uc48c8147758adecaaa818217e59.dl.dropboxusercontent.com/cd/0/inline/BCWJMGyU00ST3o_vQaWbgi3Y5vrTRxMbSGCSC2p_xFoDT80McMLDS93e4KIG_QLuxXwmkapaJ6wP6lHFx0XHolPas1roh50RYgo0FFux4Wg4_g/file# [segue]\n",
      "--2020-10-31 15:33:10--  https://uc48c8147758adecaaa818217e59.dl.dropboxusercontent.com/cd/0/inline/BCWJMGyU00ST3o_vQaWbgi3Y5vrTRxMbSGCSC2p_xFoDT80McMLDS93e4KIG_QLuxXwmkapaJ6wP6lHFx0XHolPas1roh50RYgo0FFux4Wg4_g/file\n",
      "Risoluzione di uc48c8147758adecaaa818217e59.dl.dropboxusercontent.com (uc48c8147758adecaaa818217e59.dl.dropboxusercontent.com)... 162.125.69.15, 2620:100:6025:15::a27d:450f\n",
      "Connessione a uc48c8147758adecaaa818217e59.dl.dropboxusercontent.com (uc48c8147758adecaaa818217e59.dl.dropboxusercontent.com)|162.125.69.15|:443... connesso.\n",
      "Richiesta HTTP inviata, in attesa di risposta... 200 OK\n",
      "Lunghezza: 525 [text/plain]\n",
      "Salvataggio in: \"populations.txt.2\"\n",
      "\n",
      "populations.txt.2   100%[===================>]     525  --.-KB/s    in 0s      \n",
      "\n",
      "2020-10-31 15:33:10 (101 MB/s) - \"populations.txt.2\" salvato [525/525]\n",
      "\n"
     ]
    }
   ],
   "source": [
    "! wget https://www.dropbox.com/s/3vigxoqayo389uc/populations.txt"
   ]
  },
  {
   "cell_type": "code",
   "execution_count": 48,
   "metadata": {},
   "outputs": [
    {
     "data": {
      "image/png": "[encoded data removed]",
      "text/plain": [
       "<Figure size 432x288 with 1 Axes>"
      ]
     },
     "metadata": {
      "needs_background": "light"
     },
     "output_type": "display_data"
    },
    {
     "name": "stdout",
     "output_type": "stream",
     "text": [
      "\n",
      " Stats hare:\n",
      "sum 715700.0\n",
      "min 7600.0\n",
      "argmin 17\n",
      "mean 34080.95238095238\n",
      "median 25400.0\n",
      "std 20897.906458089667\n",
      "\n",
      " Stats: lynx\n",
      "sum 423500.0\n",
      "min 4000.0\n",
      "argmin 0\n",
      "mean 20166.666666666668\n",
      "median 12300.0\n",
      "std 16254.591536908763\n",
      "\n",
      " Stats: carrot\n",
      "sum 890400.0\n",
      "min 36700.0\n",
      "argmin 16\n",
      "mean 42400.0\n",
      "median 41800.0\n",
      "std 3322.5062255844787\n",
      "If we assume carrots as 'population', they are have the highest population (by looking at the means)\n",
      "correlation between carrots and hares:\n",
      " -0.016603777709879388\n",
      "correlation between lynxes and hares:\n",
      " 0.07189206073535573\n",
      "correlation between lynxes and carrots:\n",
      " -0.6805771698401617\n"
     ]
    }
   ],
   "source": [
    "data = np.loadtxt(\"populations.txt\")\n",
    "year = data[:,0]\n",
    "hare = data[:,1]\n",
    "lynx = data[:,2]\n",
    "carrot = data[:,3]\n",
    "\n",
    "plt.plot(year, hare, label='hare')\n",
    "plt.plot(year, lynx, label=\"lynx\")\n",
    "plt.plot(year, carrot, label=\"carrot\")\n",
    "plt.legend()\n",
    "plt.show()\n",
    "\n",
    "print(\"\\n Stats hare:\")\n",
    "for function in ['sum','min','argmin','mean','median','std']:\n",
    "    print (function, getattr(np, function)(hare))\n",
    "print(\"\\n Stats: lynx\")\n",
    "for function in ['sum','min','argmin','mean','median','std']:\n",
    "    print (function, getattr(np, function)(lynx))\n",
    "print(\"\\n Stats: carrot\")\n",
    "for function in ['sum','min','argmin','mean','median','std']:\n",
    "    print (function, getattr(np, function)(carrot))\n",
    "    \n",
    "##\n",
    "print(\"If we assume carrots as 'population', they are have the highest population (by looking at the means)\")\n",
    "\n",
    "corr1=np.corrcoef(carrot,hare)\n",
    "print('correlation between carrots and hares:\\n', corr1[0,1])\n",
    "corr2=np.corrcoef(lynx,hare)\n",
    "print('correlation between lynxes and hares:\\n',corr2[0,1])\n",
    "corr3=np.corrcoef(lynx,carrot)\n",
    "print('correlation between lynxes and carrots:\\n',corr3[0,1])\n",
    "\n",
    "#Looking at the plot we can see some correlation between the number of population of hares and its predator the, lynx"
   ]
  }
 ],
 "metadata": {
  "kernelspec": {
   "display_name": "Python 3",
   "language": "python",
   "name": "python3"
  },
  "language_info": {
   "codemirror_mode": {
    "name": "ipython",
    "version": 3
   },
   "file_extension": ".py",
   "mimetype": "text/x-python",
   "name": "python",
   "nbconvert_exporter": "python",
   "pygments_lexer": "ipython3",
   "version": "3.8.5"
  }
 },
 "nbformat": 4,
 "nbformat_minor": 4
}
