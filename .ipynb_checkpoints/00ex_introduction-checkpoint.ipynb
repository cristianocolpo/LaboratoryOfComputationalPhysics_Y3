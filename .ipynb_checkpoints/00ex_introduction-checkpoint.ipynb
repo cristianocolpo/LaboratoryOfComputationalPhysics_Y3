{
 "cells": [
  {
   "cell_type": "markdown",
   "metadata": {},
   "source": [
    "1. The MickeyMouse problem\n",
    "\n",
    "a) Write a program that prints the numbers from 1 to 100. But for multiples of three print Mickey instead of the number and for the multiples of five print Mouse. For numbers which are multiples of both three and five print MickeyMouse\n",
    "\n",
    "b) Put the result in a tuple and substitute Mickey with Donald and Mouse with Duck"
   ]
  },
  {
   "cell_type": "code",
   "execution_count": null,
   "metadata": {},
   "outputs": [],
   "source": [
    "for i in range(1,101):\n",
    "    if i%3==0 and i%5==0: print(\"MickeyMouse\")\n",
    "    else:\n",
    "        if i%3==0: print(\"Mickey\")\n",
    "        if i%5==0: print(\"Mouse\")\n",
    "        if i%3!=0 and i%5!=0: print(i)"
   ]
  },
  {
   "cell_type": "code",
   "execution_count": 71,
   "metadata": {},
   "outputs": [
    {
     "name": "stdout",
     "output_type": "stream",
     "text": [
      "(1, 2, 'Donald', 4, 'Duck', 'Donald', 7, 8, 'Donald', 'Duck', 11, 'Donald', 13, 14, 'MickeyMouse', 16, 17, 'Donald', 19, 'Duck', 'Donald', 22, 23, 'Donald', 'Duck', 26, 'Donald', 28, 29, 'MickeyMouse', 31, 32, 'Donald', 34, 'Duck', 'Donald', 37, 38, 'Donald', 'Duck', 41, 'Donald', 43, 44, 'MickeyMouse', 46, 47, 'Donald', 49, 'Duck', 'Donald', 52, 53, 'Donald', 'Duck', 56, 'Donald', 58, 59, 'MickeyMouse', 61, 62, 'Donald', 64, 'Duck', 'Donald', 67, 68, 'Donald', 'Duck', 71, 'Donald', 73, 74, 'MickeyMouse', 76, 77, 'Donald', 79, 'Duck', 'Donald', 82, 83, 'Donald', 'Duck', 86, 'Donald', 88, 89, 'MickeyMouse', 91, 92, 'Donald', 94, 'Duck', 'Donald', 97, 98, 'Donald', 'Duck')\n"
     ]
    }
   ],
   "source": [
    "mylist = []\n",
    "for i in range(1,101):\n",
    "    if i%3==0 and i%5==0: mylist.append(\"MickeyMouse\")\n",
    "    else:\n",
    "        if i%3==0: mylist.append(\"Mickey\")\n",
    "        if i%5==0: mylist.append(\"Mouse\")\n",
    "        if i%3!=0 and i%5!=0: mylist.append(i)\n",
    "for n,i in enumerate(mylist):\n",
    "    if i == \"Mickey\": mylist[n] = \"Donald\"\n",
    "    if i == \"Mouse\": mylist[n] = \"Duck\"\n",
    "\n",
    "mytuple = tuple(mylist)\n",
    "print(mytuple)"
   ]
  },
  {
   "cell_type": "markdown",
   "metadata": {},
   "source": [
    "2\\. The swap function\n",
    "\n",
    "Write a function that swap the values of two input variables x and y (whatever the type). Try to do that also without a temporary variable"
   ]
  },
  {
   "cell_type": "code",
   "execution_count": 15,
   "metadata": {},
   "outputs": [
    {
     "name": "stdout",
     "output_type": "stream",
     "text": [
      "[4, 5, 6]\n",
      "[1, 2, 3]\n"
     ]
    }
   ],
   "source": [
    "x = [1,2,3]\n",
    "y = [4,5,6]\n",
    "def swap(x,y):\n",
    "    return y, x\n",
    "x, y = swap(x,y)\n",
    "print(x)\n",
    "print(y)"
   ]
  },
  {
   "cell_type": "markdown",
   "metadata": {},
   "source": [
    "3\\. Computing the distance\n",
    "\n",
    "Write a function that calculates and returns the euclidean distance between two points *u* and *v*, where *u* and *v* are both 2-tuples *(x,y)*. For example, if *u=(3,0)* and *v=(0,4)*, the function should return 5"
   ]
  },
  {
   "cell_type": "code",
   "execution_count": 1,
   "metadata": {},
   "outputs": [
    {
     "name": "stdout",
     "output_type": "stream",
     "text": [
      "5.0\n"
     ]
    }
   ],
   "source": [
    "u = (3,0)\n",
    "v = (0,4)\n",
    "def eucDist(u,v):\n",
    "    return ((u[0]-v[0])**2+(u[1]-v[1])**2)**(1/2)\n",
    "\n",
    "print(eucDist(u,v))"
   ]
  },
  {
   "cell_type": "markdown",
   "metadata": {},
   "source": [
    "4\\. Counting letters\n",
    "\n",
    "Write a program to calculate the number of times each character occurs in a given string *s*. Ignore differneces in capitalization"
   ]
  },
  {
   "cell_type": "code",
   "execution_count": 2,
   "metadata": {},
   "outputs": [],
   "source": [
    "s=\"Write a program that prints the numbers from 1 to 100. \\\n",
    "But for multiples of three print Mickey instead of the number and for the multiples of five print Mouse. \\\n",
    "For numbers which are multiples of both three and five print MickeyMouse\""
   ]
  },
  {
   "cell_type": "code",
   "execution_count": 4,
   "metadata": {},
   "outputs": [],
   "source": [
    "def findOcc(s):\n",
    "    counts_dict = {}\n",
    "    for c in list(s):\n",
    "        if c not in counts_dict:\n",
    "            counts_dict[c] = 0\n",
    "        counts_dict[c] += 1\n",
    "    \n",
    "    return counts_dict\n",
    "\n",
    "dizionario = findOcc(s)\n",
    "\n",
    "for key, value in dizionario.items():\n",
    "    print(key, value)"
   ]
  },
  {
   "cell_type": "markdown",
   "metadata": {},
   "source": [
    "5\\. Isolating the unique\n",
    "\n",
    "Write a function that determines and count the unique numbers in the list *l*"
   ]
  },
  {
   "cell_type": "code",
   "execution_count": 7,
   "metadata": {},
   "outputs": [],
   "source": [
    "l = [36, 45, 58, 3, 74, 96, 64, 45, 31, 10, 24, 19, 33, 86, 99, 18, 63, 70, 85,\n",
    " 85, 63, 47, 56, 42, 70, 84, 88, 55, 20, 54, 8, 56, 51, 79, 81, 57, 37, 91,\n",
    " 1, 84, 84, 36, 66, 9, 89, 50, 42, 91, 50, 95, 90, 98, 39, 16, 82, 31, 92, 41,\n",
    " 45, 30, 66, 70, 34, 85, 94, 5, 3, 36, 72, 91, 84, 34, 87, 75, 53, 51, 20, 89, 51, 20]"
   ]
  },
  {
   "cell_type": "code",
   "execution_count": 10,
   "metadata": {},
   "outputs": [
    {
     "data": {
      "text/plain": [
       "[58,\n",
       " 74,\n",
       " 96,\n",
       " 64,\n",
       " 10,\n",
       " 24,\n",
       " 19,\n",
       " 33,\n",
       " 86,\n",
       " 99,\n",
       " 18,\n",
       " 47,\n",
       " 88,\n",
       " 55,\n",
       " 54,\n",
       " 8,\n",
       " 79,\n",
       " 81,\n",
       " 57,\n",
       " 37,\n",
       " 1,\n",
       " 9,\n",
       " 95,\n",
       " 90,\n",
       " 98,\n",
       " 39,\n",
       " 16,\n",
       " 82,\n",
       " 92,\n",
       " 41,\n",
       " 30,\n",
       " 94,\n",
       " 5,\n",
       " 72,\n",
       " 87,\n",
       " 75,\n",
       " 53]"
      ]
     },
     "execution_count": 10,
     "metadata": {},
     "output_type": "execute_result"
    }
   ],
   "source": [
    "def unique_numbers(l):\n",
    "    dizionario = findOcc(l)\n",
    "    uniqueNum = []\n",
    "    for key, value in dizionario.items():\n",
    "        if value == 1: uniqueNum.append(key)\n",
    "    return uniqueNum\n",
    "unique_numbers(l)"
   ]
  },
  {
   "cell_type": "markdown",
   "metadata": {},
   "source": [
    "6\\. Combination of functions\n",
    "\n",
    "Write two functions - one that returns the square of a number, and one that returns the cube. Now write a third function that returns the number raised to the 6th power using the two previous functions."
   ]
  },
  {
   "cell_type": "code",
   "execution_count": 38,
   "metadata": {},
   "outputs": [
    {
     "name": "stdout",
     "output_type": "stream",
     "text": [
      "4\n",
      "27\n"
     ]
    }
   ],
   "source": [
    "def squaredNumber(x):\n",
    "    return x**2\n",
    "def cubedNumber(x):\n",
    "    return x**3\n",
    "\n",
    "print(squaredNumber(2))\n",
    "print(cubedNumber(3))\n"
   ]
  },
  {
   "cell_type": "markdown",
   "metadata": {},
   "source": [
    "7\\. Cubes\n",
    "\n",
    "Create a list of the cubes of x for x in *[0, 10]* using:\n",
    "\n",
    "a) a for loop\n",
    "\n",
    "b) a list comprehension"
   ]
  },
  {
   "cell_type": "code",
   "execution_count": 54,
   "metadata": {},
   "outputs": [
    {
     "name": "stdout",
     "output_type": "stream",
     "text": [
      "[0, 1, 8, 27, 64, 125, 216, 343, 512, 729, 1000]\n",
      "[0, 1, 8, 27, 64, 125, 216, 343, 512, 729, 1000]\n"
     ]
    }
   ],
   "source": [
    "mylist = []\n",
    "for x in range(11):\n",
    "    mylist.append(cubedNumber(x))\n",
    "print(mylist)\n",
    "\n",
    "mylist = [cubedNumber(x) for x in range(11)]\n",
    "print(mylist)"
   ]
  },
  {
   "cell_type": "markdown",
   "metadata": {},
   "source": [
    "8\\. Nested list comprehension\n",
    "\n",
    "A Pythagorean triple is an integer solution to the Pythagorean theorem $a^2+b^2=c^2$. The first Pythagorean triple is (3,4,5). Find and put in a tuple all unique Pythagorean triples for the positive integers a, b and c less than 100."
   ]
  },
  {
   "cell_type": "code",
   "execution_count": 56,
   "metadata": {},
   "outputs": [
    {
     "data": {
      "text/plain": [
       "[(3, 4, 5),\n",
       " (4, 3, 5),\n",
       " (5, 12, 13),\n",
       " (6, 8, 10),\n",
       " (7, 24, 25),\n",
       " (8, 6, 10),\n",
       " (8, 15, 17),\n",
       " (9, 12, 15),\n",
       " (9, 40, 41),\n",
       " (10, 24, 26),\n",
       " (11, 60, 61),\n",
       " (12, 5, 13),\n",
       " (12, 9, 15),\n",
       " (12, 16, 20),\n",
       " (12, 35, 37),\n",
       " (13, 84, 85),\n",
       " (14, 48, 50),\n",
       " (15, 8, 17),\n",
       " (15, 20, 25),\n",
       " (15, 36, 39),\n",
       " (16, 12, 20),\n",
       " (16, 30, 34),\n",
       " (16, 63, 65),\n",
       " (18, 24, 30),\n",
       " (18, 80, 82),\n",
       " (20, 15, 25),\n",
       " (20, 21, 29),\n",
       " (20, 48, 52),\n",
       " (21, 20, 29),\n",
       " (21, 28, 35),\n",
       " (21, 72, 75),\n",
       " (24, 7, 25),\n",
       " (24, 10, 26),\n",
       " (24, 18, 30),\n",
       " (24, 32, 40),\n",
       " (24, 45, 51),\n",
       " (24, 70, 74),\n",
       " (25, 60, 65),\n",
       " (27, 36, 45),\n",
       " (28, 21, 35),\n",
       " (28, 45, 53),\n",
       " (28, 96, 100),\n",
       " (30, 16, 34),\n",
       " (30, 40, 50),\n",
       " (30, 72, 78),\n",
       " (32, 24, 40),\n",
       " (32, 60, 68),\n",
       " (33, 44, 55),\n",
       " (33, 56, 65),\n",
       " (35, 12, 37),\n",
       " (35, 84, 91),\n",
       " (36, 15, 39),\n",
       " (36, 27, 45),\n",
       " (36, 48, 60),\n",
       " (36, 77, 85),\n",
       " (39, 52, 65),\n",
       " (39, 80, 89),\n",
       " (40, 9, 41),\n",
       " (40, 30, 50),\n",
       " (40, 42, 58),\n",
       " (40, 75, 85),\n",
       " (42, 40, 58),\n",
       " (42, 56, 70),\n",
       " (44, 33, 55),\n",
       " (45, 24, 51),\n",
       " (45, 28, 53),\n",
       " (45, 60, 75),\n",
       " (48, 14, 50),\n",
       " (48, 20, 52),\n",
       " (48, 36, 60),\n",
       " (48, 55, 73),\n",
       " (48, 64, 80),\n",
       " (51, 68, 85),\n",
       " (52, 39, 65),\n",
       " (54, 72, 90),\n",
       " (55, 48, 73),\n",
       " (56, 33, 65),\n",
       " (56, 42, 70),\n",
       " (57, 76, 95),\n",
       " (60, 11, 61),\n",
       " (60, 25, 65),\n",
       " (60, 32, 68),\n",
       " (60, 45, 75),\n",
       " (60, 63, 87),\n",
       " (60, 80, 100),\n",
       " (63, 16, 65),\n",
       " (63, 60, 87),\n",
       " (64, 48, 80),\n",
       " (65, 72, 97),\n",
       " (68, 51, 85),\n",
       " (70, 24, 74),\n",
       " (72, 21, 75),\n",
       " (72, 30, 78),\n",
       " (72, 54, 90),\n",
       " (72, 65, 97),\n",
       " (75, 40, 85),\n",
       " (76, 57, 95),\n",
       " (77, 36, 85),\n",
       " (80, 18, 82),\n",
       " (80, 39, 89),\n",
       " (80, 60, 100),\n",
       " (84, 13, 85),\n",
       " (84, 35, 91),\n",
       " (96, 28, 100)]"
      ]
     },
     "execution_count": 56,
     "metadata": {},
     "output_type": "execute_result"
    }
   ],
   "source": [
    "[(a,b,c) for a in range(1,101) for b in range(1,101) for c in range(1,101) if a**2+b**2==c**2]"
   ]
  },
  {
   "cell_type": "markdown",
   "metadata": {},
   "source": [
    "9\\. Normalization\n",
    "\n",
    "Write a function that takes a tuple of numbers and returns it with the entries normalized to one"
   ]
  },
  {
   "cell_type": "code",
   "execution_count": 68,
   "metadata": {},
   "outputs": [
    {
     "name": "stdout",
     "output_type": "stream",
     "text": [
      "(0.6788225099390855, 0.1979898987322333, 0.7071067811865475)\n"
     ]
    }
   ],
   "source": [
    "x = (96,28,100)\n",
    "def normalize(x):\n",
    "    normSquared = 0\n",
    "    output = []\n",
    "    for i in x: normSquared += i**2\n",
    "    for i in x: output.append(i/normSquared**(1/2))\n",
    "    return tuple(output)\n",
    "\n",
    "print(normalize(x))"
   ]
  }
 ],
 "metadata": {
  "kernelspec": {
   "display_name": "Python 3",
   "language": "python",
   "name": "python3"
  },
  "language_info": {
   "codemirror_mode": {
    "name": "ipython",
    "version": 3
   },
   "file_extension": ".py",
   "mimetype": "text/x-python",
   "name": "python",
   "nbconvert_exporter": "python",
   "pygments_lexer": "ipython3",
   "version": "3.8.5"
  }
 },
 "nbformat": 4,
 "nbformat_minor": 4
}
